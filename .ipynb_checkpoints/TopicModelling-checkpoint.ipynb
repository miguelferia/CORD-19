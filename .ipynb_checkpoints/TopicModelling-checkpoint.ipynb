{
 "cells": [
  {
   "cell_type": "markdown",
   "metadata": {},
   "source": [
    "### In this notebook, we'll try to do some topic modeling on the data set. \n",
    "We'll be working with the abstracts data frame from the TFIDF notebook. What we're going to do:\n",
    "1. Load the data from the previous notebook\n",
    "2. Create Doc2Vec vectors.\n",
    "3. Make an abstract similarity network\n",
    "4. Find documents that are closest to each other. \n",
    "5. Profit???"
   ]
  },
  {
   "cell_type": "code",
   "execution_count": 1,
   "metadata": {},
   "outputs": [],
   "source": [
    "import numpy as np # linear algebra\n",
    "import pandas as pd # data processing, CSV file I/O (e.g. pd.read_csv)\n",
    "# pd.options.display.max_colwidth = 500\n",
    "from tqdm import tqdm\n",
    "\n",
    "from multiprocessing import cpu_count, Pool #for multiprocessing data\n",
    "cores = cpu_count()\n",
    "import re\n",
    "\n",
    "#imports for network analysis\n",
    "import networkx as nx #for creating networl\n",
    "import community #pip install python-louvain; for determining communities\n",
    "\n",
    "from gensim.models.doc2vec import Doc2Vec, TaggedDocument #for doc2vec modelling\n",
    "from IPython.display import clear_output"
   ]
  },
  {
   "cell_type": "code",
   "execution_count": 2,
   "metadata": {},
   "outputs": [],
   "source": [
    "abstracts_df = pd.read_pickle('abstracts_dataframe') #load data"
   ]
  },
  {
   "cell_type": "code",
   "execution_count": 3,
   "metadata": {},
   "outputs": [
    {
     "data": {
      "text/html": [
       "<div>\n",
       "<style scoped>\n",
       "    .dataframe tbody tr th:only-of-type {\n",
       "        vertical-align: middle;\n",
       "    }\n",
       "\n",
       "    .dataframe tbody tr th {\n",
       "        vertical-align: top;\n",
       "    }\n",
       "\n",
       "    .dataframe thead th {\n",
       "        text-align: right;\n",
       "    }\n",
       "</style>\n",
       "<table border=\"1\" class=\"dataframe\">\n",
       "  <thead>\n",
       "    <tr style=\"text-align: right;\">\n",
       "      <th></th>\n",
       "      <th>indice</th>\n",
       "      <th>content</th>\n",
       "      <th>title</th>\n",
       "      <th>content_clean</th>\n",
       "      <th>content_clean_nsw</th>\n",
       "      <th>title_clean</th>\n",
       "      <th>title_clean_nsw</th>\n",
       "      <th>vector</th>\n",
       "    </tr>\n",
       "  </thead>\n",
       "  <tbody>\n",
       "    <tr>\n",
       "      <th>0</th>\n",
       "      <td>2</td>\n",
       "      <td>The geographic spread of 2019 novel coronaviru...</td>\n",
       "      <td>Incubation Period and Other Epidemiological Ch...</td>\n",
       "      <td>[the, geographic, spread, of, novel, coronavir...</td>\n",
       "      <td>[geographic, spread, novel, coronavirus, covid...</td>\n",
       "      <td>[incubation, period, and, other, epidemiologic...</td>\n",
       "      <td>[incubation, period, epidemiological, characte...</td>\n",
       "      <td>[0.0, 0.0, 0.0, 0.0, 0.0, 0.0, 0.0, 0.0, 0.0, ...</td>\n",
       "    </tr>\n",
       "    <tr>\n",
       "      <th>1</th>\n",
       "      <td>3</td>\n",
       "      <td>In December 2019, cases of unidentified pneumo...</td>\n",
       "      <td>Characteristics of and Public Health Responses...</td>\n",
       "      <td>[in, december, cases, of, unidentified, pneumo...</td>\n",
       "      <td>[december, cases, unidentified, pneumonia, his...</td>\n",
       "      <td>[characteristics, of, and, public, health, res...</td>\n",
       "      <td>[characteristics, public, health, responses, c...</td>\n",
       "      <td>[0.0, 0.0, 0.0, 0.0, 0.0, 0.0, 0.0, 0.0, 0.0, ...</td>\n",
       "    </tr>\n",
       "    <tr>\n",
       "      <th>2</th>\n",
       "      <td>5</td>\n",
       "      <td>The basic reproduction number of an infectious...</td>\n",
       "      <td>An updated estimation of the risk of transmiss...</td>\n",
       "      <td>[the, basic, reproduction, number, of, an, inf...</td>\n",
       "      <td>[basic, reproduction, number, infectious, agen...</td>\n",
       "      <td>[an, updated, estimation, of, the, risk, of, t...</td>\n",
       "      <td>[updated, estimation, risk, transmission, nove...</td>\n",
       "      <td>[0.0, 0.0, 0.0, 0.0, 0.0, 0.0, 0.0, 0.0, 0.0, ...</td>\n",
       "    </tr>\n",
       "    <tr>\n",
       "      <th>3</th>\n",
       "      <td>6</td>\n",
       "      <td>The initial cluster of severe pneumonia cases ...</td>\n",
       "      <td>Real-time forecasts of the 2019-nCoV epidemic ...</td>\n",
       "      <td>[the, initial, cluster, of, severe, pneumonia,...</td>\n",
       "      <td>[initial, cluster, severe, pneumonia, cases, t...</td>\n",
       "      <td>[real, time, forecasts, of, the, ncov, epidemi...</td>\n",
       "      <td>[real, time, forecasts, ncov, epidemic, china,...</td>\n",
       "      <td>[0.0, 0.0, 0.0, 0.0, 0.0, 0.0, 0.0, 0.0, 0.0, ...</td>\n",
       "    </tr>\n",
       "    <tr>\n",
       "      <th>4</th>\n",
       "      <td>8</td>\n",
       "      <td>Cruise ships carry a large number of people in...</td>\n",
       "      <td>COVID-19 outbreak on the Diamond Princess crui...</td>\n",
       "      <td>[cruise, ships, carry, a, large, number, of, p...</td>\n",
       "      <td>[cruise, ships, carry, large, number, people, ...</td>\n",
       "      <td>[covid, outbreak, on, the, diamond, princess, ...</td>\n",
       "      <td>[covid, outbreak, diamond, princess, cruise, s...</td>\n",
       "      <td>[0.0, 0.0, 0.0, 0.0, 0.0, 0.0, 0.0, 0.0, 0.0, ...</td>\n",
       "    </tr>\n",
       "  </tbody>\n",
       "</table>\n",
       "</div>"
      ],
      "text/plain": [
       "   indice                                            content  \\\n",
       "0       2  The geographic spread of 2019 novel coronaviru...   \n",
       "1       3  In December 2019, cases of unidentified pneumo...   \n",
       "2       5  The basic reproduction number of an infectious...   \n",
       "3       6  The initial cluster of severe pneumonia cases ...   \n",
       "4       8  Cruise ships carry a large number of people in...   \n",
       "\n",
       "                                               title  \\\n",
       "0  Incubation Period and Other Epidemiological Ch...   \n",
       "1  Characteristics of and Public Health Responses...   \n",
       "2  An updated estimation of the risk of transmiss...   \n",
       "3  Real-time forecasts of the 2019-nCoV epidemic ...   \n",
       "4  COVID-19 outbreak on the Diamond Princess crui...   \n",
       "\n",
       "                                       content_clean  \\\n",
       "0  [the, geographic, spread, of, novel, coronavir...   \n",
       "1  [in, december, cases, of, unidentified, pneumo...   \n",
       "2  [the, basic, reproduction, number, of, an, inf...   \n",
       "3  [the, initial, cluster, of, severe, pneumonia,...   \n",
       "4  [cruise, ships, carry, a, large, number, of, p...   \n",
       "\n",
       "                                   content_clean_nsw  \\\n",
       "0  [geographic, spread, novel, coronavirus, covid...   \n",
       "1  [december, cases, unidentified, pneumonia, his...   \n",
       "2  [basic, reproduction, number, infectious, agen...   \n",
       "3  [initial, cluster, severe, pneumonia, cases, t...   \n",
       "4  [cruise, ships, carry, large, number, people, ...   \n",
       "\n",
       "                                         title_clean  \\\n",
       "0  [incubation, period, and, other, epidemiologic...   \n",
       "1  [characteristics, of, and, public, health, res...   \n",
       "2  [an, updated, estimation, of, the, risk, of, t...   \n",
       "3  [real, time, forecasts, of, the, ncov, epidemi...   \n",
       "4  [covid, outbreak, on, the, diamond, princess, ...   \n",
       "\n",
       "                                     title_clean_nsw  \\\n",
       "0  [incubation, period, epidemiological, characte...   \n",
       "1  [characteristics, public, health, responses, c...   \n",
       "2  [updated, estimation, risk, transmission, nove...   \n",
       "3  [real, time, forecasts, ncov, epidemic, china,...   \n",
       "4  [covid, outbreak, diamond, princess, cruise, s...   \n",
       "\n",
       "                                              vector  \n",
       "0  [0.0, 0.0, 0.0, 0.0, 0.0, 0.0, 0.0, 0.0, 0.0, ...  \n",
       "1  [0.0, 0.0, 0.0, 0.0, 0.0, 0.0, 0.0, 0.0, 0.0, ...  \n",
       "2  [0.0, 0.0, 0.0, 0.0, 0.0, 0.0, 0.0, 0.0, 0.0, ...  \n",
       "3  [0.0, 0.0, 0.0, 0.0, 0.0, 0.0, 0.0, 0.0, 0.0, ...  \n",
       "4  [0.0, 0.0, 0.0, 0.0, 0.0, 0.0, 0.0, 0.0, 0.0, ...  "
      ]
     },
     "execution_count": 3,
     "metadata": {},
     "output_type": "execute_result"
    }
   ],
   "source": [
    "abstracts_df.head() #check out if everything looks ok "
   ]
  },
  {
   "cell_type": "markdown",
   "metadata": {},
   "source": [
    "### Doc2Vec Modeling"
   ]
  },
  {
   "cell_type": "code",
   "execution_count": 4,
   "metadata": {},
   "outputs": [],
   "source": [
    "content = abstracts_df['content_clean'].to_list()\n",
    "documents = [TaggedDocument(doc, [i]) for i, doc in enumerate(content)]"
   ]
  },
  {
   "cell_type": "code",
   "execution_count": 73,
   "metadata": {},
   "outputs": [
    {
     "name": "stderr",
     "output_type": "stream",
     "text": [
      "/opt/conda/lib/python3.7/site-packages/tqdm/std.py:658: FutureWarning: The Panel class is removed from pandas. Accessing it from the top-level namespace will also be removed in the next version\n",
      "  from pandas import Panel\n"
     ]
    }
   ],
   "source": [
    "tqdm.pandas(desc=\"progress-bar\")\n",
    "\n",
    "epochs = 40\n",
    "vec_size = 50\n",
    "alpha = 0.025\n",
    "\n",
    "model = Doc2Vec(vector_size=vec_size,\n",
    "                alpha=alpha, \n",
    "                min_alpha=0.00025,\n",
    "                min_count=2,\n",
    "                workers = cores,\n",
    "                dm = 1, epochs = epochs)\n",
    "\n",
    "model.build_vocab(documents = documents, progress_per=1)"
   ]
  },
  {
   "cell_type": "markdown",
   "metadata": {},
   "source": [
    "### Now we can compute similarity values between documents"
   ]
  },
  {
   "cell_type": "code",
   "execution_count": 74,
   "metadata": {},
   "outputs": [
    {
     "name": "stdout",
     "output_type": "stream",
     "text": [
      "Characteristics of and Public Health Responses to the Coronavirus Disease 2019 Outbreak in China\n",
      "----------\n",
      "0.5229278802871704 Architects of Assembly: roles of Flaviviridae nonstructural proteins in virion morphogenesis\n",
      "----------\n",
      "0.5095396041870117 The NF-κB-dependent and -independent transcriptome and chromatin landscapes of human coronavirus 229E-infected cells\n",
      "----------\n",
      "0.4931204617023468 Evaluation of the cytotoxic potential of extracts from the genus Passiflora cultived in Brazil against cancer cells\n",
      "----------\n",
      "0.48933345079421997 Influenza A Virus Assembly Intermediates Fuse in the Cytoplasm\n",
      "----------\n",
      "0.4824468195438385 Molecular detection of enteric viruses and the genetic characterization of porcine astroviruses and sapoviruses in domestic pigs from Slovakian farms\n",
      "----------\n",
      "0.48157939314842224 The National Ebola Training and Education Center: Preparing the United States for Ebola and Other Special Pathogens\n",
      "----------\n",
      "0.4812838137149811 Human Betacoronavirus 2c EMC/2012–related Viruses in Bats, Ghana and Europe\n",
      "----------\n",
      "0.46190351247787476 Uganda public health fellowship program’s contribution to building a resilient and sustainable public health system in Uganda\n",
      "----------\n",
      "0.4614175856113434 The possibility of using Lopinave/Litonawe (LPV/r) as treatment for novel coronavirus （2019-nCov）pneumonia: a quick systematic review based on earlier coronavirus clinical studies\n",
      "----------\n",
      "0.4584466814994812 Migrants and emerging public health issues in a globalized world: threats, risks and challenges, an evidence-based framework\n",
      "----------\n"
     ]
    }
   ],
   "source": [
    "doc_i = 1\n",
    "# print('')\n",
    "print(abstracts_df.iloc[doc_i]['title'])\n",
    "print('-'*10)\n",
    "for doc in model.docvecs.most_similar(1,topn=10):\n",
    "    print(doc[1],abstracts_df.iloc[doc[0]]['title'])\n",
    "    print('-'*10)"
   ]
  },
  {
   "cell_type": "code",
   "execution_count": 13,
   "metadata": {},
   "outputs": [],
   "source": [
    "high_threshold = 0.4\n",
    "# low_threshold = 0.35\n",
    "maxedges = 50\n",
    "abstract_network = nx.Graph()\n",
    "size = len(documents)"
   ]
  },
  {
   "cell_type": "code",
   "execution_count": 14,
   "metadata": {},
   "outputs": [
    {
     "name": "stderr",
     "output_type": "stream",
     "text": [
      "100%|██████████| 26552/26552 [00:32<00:00, 823.50it/s]\n"
     ]
    }
   ],
   "source": [
    "for i in tqdm(range(size)):\n",
    "    sims = model.docvecs.most_similar(i,topn=maxedges)\n",
    "    for sim in sims:\n",
    "        if sim[1] >= high_threshold:\n",
    "            abstract_network.add_edge(i,sim[0],weight=sim[1])"
   ]
  },
  {
   "cell_type": "code",
   "execution_count": 15,
   "metadata": {},
   "outputs": [
    {
     "name": "stderr",
     "output_type": "stream",
     "text": [
      "100%|██████████| 26552/26552 [00:00<00:00, 1341837.68it/s]"
     ]
    },
    {
     "name": "stdout",
     "output_type": "stream",
     "text": [
      "7 communities found\n"
     ]
    },
    {
     "name": "stderr",
     "output_type": "stream",
     "text": [
      "\n"
     ]
    }
   ],
   "source": [
    "#community detection\n",
    "partition = community.best_partition(abstract_network) #default louvain community detection\n",
    "v = {} #create dict to group nodes by community\n",
    "for key, value in tqdm(sorted(partition.items())):\n",
    "    v.setdefault(value, []).append(key)\n",
    "print('{} communities found'.format(len(v)))"
   ]
  },
  {
   "cell_type": "code",
   "execution_count": 18,
   "metadata": {},
   "outputs": [
    {
     "name": "stdout",
     "output_type": "stream",
     "text": [
      "samples from community0 [ 4545  6619  2349 21587  5926  8731 17291  9016 11451  3083]\n",
      "samples from community1 [18901   160 20286 12087 15339  6666 25686  6451 20024 20683]\n",
      "samples from community3 [24529 23830   627 25966 25437  1763 17466  9265  1341 10194]\n",
      "samples from community4 [19401  7704 26445 16445  5401 10277 12338 25605 13222 23755]\n",
      "samples from community5 [ 3115 17279  4470 11234   328  2840  2505   660 19641 18442]\n",
      "samples from community6 [ 3629 26098  7916  9650 12774 22581 16752 15978  3497 16431]\n",
      "samples from community2 [12677  6351 22005 14883 25170  3909 21433 21899 13097  4347]\n"
     ]
    }
   ],
   "source": [
    "df_samples = {}\n",
    "for c, n in v.items():\n",
    "#     print(c,len(n))\n",
    "    s = np.random.choice(n, size = 10)\n",
    "    print('samples from community{}'.format(c),s)\n",
    "    s_df = abstracts_df[abstracts_df.index.isin(s)]\n",
    "    df_samples[c] = s_df"
   ]
  },
  {
   "cell_type": "code",
   "execution_count": 28,
   "metadata": {},
   "outputs": [
    {
     "data": {
      "text/html": [
       "<div>\n",
       "<style scoped>\n",
       "    .dataframe tbody tr th:only-of-type {\n",
       "        vertical-align: middle;\n",
       "    }\n",
       "\n",
       "    .dataframe tbody tr th {\n",
       "        vertical-align: top;\n",
       "    }\n",
       "\n",
       "    .dataframe thead th {\n",
       "        text-align: right;\n",
       "    }\n",
       "</style>\n",
       "<table border=\"1\" class=\"dataframe\">\n",
       "  <thead>\n",
       "    <tr style=\"text-align: right;\">\n",
       "      <th></th>\n",
       "      <th>title</th>\n",
       "    </tr>\n",
       "  </thead>\n",
       "  <tbody>\n",
       "    <tr>\n",
       "      <th>160</th>\n",
       "      <td>Understanding of COVID-19 based on current evidence</td>\n",
       "    </tr>\n",
       "    <tr>\n",
       "      <th>6451</th>\n",
       "      <td>SARS Coronavirus Papain-Like Protease Inhibits the TLR7 Signaling Pathway through Removing Lys63-Linked Polyubiquitination of TRAF3 and TRAF6</td>\n",
       "    </tr>\n",
       "    <tr>\n",
       "      <th>6666</th>\n",
       "      <td>Germinal Center B Cell and T Follicular Helper Cell Responses to Viral Vector and Protein-in-Adjuvant Vaccines</td>\n",
       "    </tr>\n",
       "    <tr>\n",
       "      <th>12087</th>\n",
       "      <td>Are we prepared? The development of performance indicators for public health emergency preparedness using a modified Delphi approach</td>\n",
       "    </tr>\n",
       "    <tr>\n",
       "      <th>15339</th>\n",
       "      <td>Mucosal Immunization Induces a Higher Level of Lasting Neutralizing Antibody Response in Mice by a Replication-Competent Smallpox Vaccine: Vaccinia Tiantan Strain</td>\n",
       "    </tr>\n",
       "    <tr>\n",
       "      <th>18901</th>\n",
       "      <td>Expression, crystallization and preliminary crystallographic study of the functional mutant (N60K) of nonstructural protein 9 from Human coronavirus HKU1</td>\n",
       "    </tr>\n",
       "    <tr>\n",
       "      <th>20024</th>\n",
       "      <td>SOCS proteins in development and disease</td>\n",
       "    </tr>\n",
       "    <tr>\n",
       "      <th>20286</th>\n",
       "      <td>Hepatitis C Virus-Induced Autophagy Is Independent of the Unfolded Protein Response</td>\n",
       "    </tr>\n",
       "    <tr>\n",
       "      <th>20683</th>\n",
       "      <td>Characterization of the stop codon readthrough signal of Colorado tick fever virus segment 9 RNA</td>\n",
       "    </tr>\n",
       "    <tr>\n",
       "      <th>25686</th>\n",
       "      <td>Three intergenic regions of coronavirus mouse hepatitis virus strain A59 genome RNA contain a common nucleotide sequence that is homologous to the 3' end of the viral mRNA leader sequence.</td>\n",
       "    </tr>\n",
       "  </tbody>\n",
       "</table>\n",
       "</div>"
      ],
      "text/plain": [
       "                                                                                                                                                                                              title\n",
       "160                                                                                                                                             Understanding of COVID-19 based on current evidence\n",
       "6451                                                  SARS Coronavirus Papain-Like Protease Inhibits the TLR7 Signaling Pathway through Removing Lys63-Linked Polyubiquitination of TRAF3 and TRAF6\n",
       "6666                                                                                 Germinal Center B Cell and T Follicular Helper Cell Responses to Viral Vector and Protein-in-Adjuvant Vaccines\n",
       "12087                                                          Are we prepared? The development of performance indicators for public health emergency preparedness using a modified Delphi approach\n",
       "15339                            Mucosal Immunization Induces a Higher Level of Lasting Neutralizing Antibody Response in Mice by a Replication-Competent Smallpox Vaccine: Vaccinia Tiantan Strain\n",
       "18901                                     Expression, crystallization and preliminary crystallographic study of the functional mutant (N60K) of nonstructural protein 9 from Human coronavirus HKU1\n",
       "20024                                                                                                                                                      SOCS proteins in development and disease\n",
       "20286                                                                                                           Hepatitis C Virus-Induced Autophagy Is Independent of the Unfolded Protein Response\n",
       "20683                                                                                              Characterization of the stop codon readthrough signal of Colorado tick fever virus segment 9 RNA\n",
       "25686  Three intergenic regions of coronavirus mouse hepatitis virus strain A59 genome RNA contain a common nucleotide sequence that is homologous to the 3' end of the viral mRNA leader sequence."
      ]
     },
     "execution_count": 28,
     "metadata": {},
     "output_type": "execute_result"
    }
   ],
   "source": [
    "pd.options.display.max_colwidth = 500\n",
    "df_samples[1][['title']]"
   ]
  },
  {
   "cell_type": "markdown",
   "metadata": {},
   "source": [
    "I'm not too sure what this tells me. Maybe doing similar analysis using the tfidf vectors will give me better results?"
   ]
  },
  {
   "cell_type": "markdown",
   "metadata": {},
   "source": [
    "### TFIDF Similarity\n",
    "The previous cells give us a network based on the similariy scores of the abstracts, according to the Doc2Vec Model. We'll do the same now, but with the tfidf vectors. "
   ]
  },
  {
   "cell_type": "code",
   "execution_count": 29,
   "metadata": {},
   "outputs": [],
   "source": [
    "#returns cosine similarity between two vectors, i.e. their dot product over product of their norms\n",
    "def cosim(vector1,vector2):\n",
    "    sim = np.dot(vector1, vector2) / (np.linalg.norm(vector1) * np.linalg.norm(vector2))\n",
    "    return sim"
   ]
  },
  {
   "cell_type": "code",
   "execution_count": 84,
   "metadata": {},
   "outputs": [],
   "source": [
    "class TFIDFM():\n",
    "    def __init__(self,data):\n",
    "        self.data = data\n",
    "    \n",
    "    def most_similar(self,doc,topn=10):\n",
    "        v1 = self.data.iloc[doc]['vector']\n",
    "        sims = []\n",
    "        for i in range(len(self.data)):\n",
    "            if i != doc:\n",
    "                v2 = self.data.iloc[i]['vector']\n",
    "                sims.append((i,cosim(v1,v2)))\n",
    "        return sorted(sims, key=lambda x: x[1], reverse= True)[:topn]\n",
    "    \n",
    "    def most_similar_text(self,doc,topn=10):\n",
    "        sim = [i[0] for i in self.most_similar(doc,topn=topn)]\n",
    "        df = self.data[self.data.index.isin(sim)]\n",
    "        return df[['title']]\n",
    "    \n",
    "    def print_most_sim(self, doc, topn=10):\n",
    "        sim = self.most_similar(doc,topn=topn)\n",
    "        for i in sim:\n",
    "            print('Paper number: {},\\nTitle: {}'.format(abstracts_df.iloc[i[0]]['indice'], abstracts_df.iloc[i[0]]['title']))"
   ]
  },
  {
   "cell_type": "code",
   "execution_count": 85,
   "metadata": {},
   "outputs": [],
   "source": [
    "tfidfmodel = TFIDFM(abstracts_df)"
   ]
  },
  {
   "cell_type": "code",
   "execution_count": 87,
   "metadata": {},
   "outputs": [
    {
     "data": {
      "text/html": [
       "<div>\n",
       "<style scoped>\n",
       "    .dataframe tbody tr th:only-of-type {\n",
       "        vertical-align: middle;\n",
       "    }\n",
       "\n",
       "    .dataframe tbody tr th {\n",
       "        vertical-align: top;\n",
       "    }\n",
       "\n",
       "    .dataframe thead th {\n",
       "        text-align: right;\n",
       "    }\n",
       "</style>\n",
       "<table border=\"1\" class=\"dataframe\">\n",
       "  <thead>\n",
       "    <tr style=\"text-align: right;\">\n",
       "      <th></th>\n",
       "      <th>title</th>\n",
       "    </tr>\n",
       "  </thead>\n",
       "  <tbody>\n",
       "    <tr>\n",
       "      <th>41</th>\n",
       "      <td>Clinical characteristics of novel coronavirus cases in tertiary hospitals in Hubei Province</td>\n",
       "    </tr>\n",
       "    <tr>\n",
       "      <th>486</th>\n",
       "      <td>Clinical analysis of 23 cases of 2019 novel coronavirus infection in Xinyang City, Henan Province</td>\n",
       "    </tr>\n",
       "    <tr>\n",
       "      <th>714</th>\n",
       "      <td>Health management of breast cancer patients outside the hospital during the outbreak of 2019 novel coronavirus disease</td>\n",
       "    </tr>\n",
       "    <tr>\n",
       "      <th>716</th>\n",
       "      <td>[Surgical treatment for esophageal cancer during the outbreak of COVID-19]</td>\n",
       "    </tr>\n",
       "    <tr>\n",
       "      <th>717</th>\n",
       "      <td>[Discussion on diagnosis and treatment of hepatobiliary malignancies during the outbreak of novel coronavirus pneumonia]</td>\n",
       "    </tr>\n",
       "    <tr>\n",
       "      <th>755</th>\n",
       "      <td>Pulmonary rehabilitation guidelines in the principle of 4S for patients infected with 2019 novel coronavirus (2019-nCoV)</td>\n",
       "    </tr>\n",
       "    <tr>\n",
       "      <th>760</th>\n",
       "      <td>Pharmacotherapeutics for the New Coronavirus Pneumonia</td>\n",
       "    </tr>\n",
       "    <tr>\n",
       "      <th>845</th>\n",
       "      <td>Experts proposal and frequently asked questions of rapid screening and prevention of novel coronavirus pneumonia in children</td>\n",
       "    </tr>\n",
       "    <tr>\n",
       "      <th>13167</th>\n",
       "      <td>Pathogenic Influenza Viruses and Coronaviruses Utilize Similar and Contrasting Approaches To Control Interferon-Stimulated Gene Responses</td>\n",
       "    </tr>\n",
       "    <tr>\n",
       "      <th>13972</th>\n",
       "      <td>The Relationship between Airway Inflammation and Exacerbation in Chronic Obstructive Pulmonary Disease</td>\n",
       "    </tr>\n",
       "  </tbody>\n",
       "</table>\n",
       "</div>"
      ],
      "text/plain": [
       "                                                                                                                                           title\n",
       "41                                                   Clinical characteristics of novel coronavirus cases in tertiary hospitals in Hubei Province\n",
       "486                                            Clinical analysis of 23 cases of 2019 novel coronavirus infection in Xinyang City, Henan Province\n",
       "714                       Health management of breast cancer patients outside the hospital during the outbreak of 2019 novel coronavirus disease\n",
       "716                                                                   [Surgical treatment for esophageal cancer during the outbreak of COVID-19]\n",
       "717                     [Discussion on diagnosis and treatment of hepatobiliary malignancies during the outbreak of novel coronavirus pneumonia]\n",
       "755                     Pulmonary rehabilitation guidelines in the principle of 4S for patients infected with 2019 novel coronavirus (2019-nCoV)\n",
       "760                                                                                       Pharmacotherapeutics for the New Coronavirus Pneumonia\n",
       "845                 Experts proposal and frequently asked questions of rapid screening and prevention of novel coronavirus pneumonia in children\n",
       "13167  Pathogenic Influenza Viruses and Coronaviruses Utilize Similar and Contrasting Approaches To Control Interferon-Stimulated Gene Responses\n",
       "13972                                     The Relationship between Airway Inflammation and Exacerbation in Chronic Obstructive Pulmonary Disease"
      ]
     },
     "execution_count": 87,
     "metadata": {},
     "output_type": "execute_result"
    }
   ],
   "source": [
    "tfidfmodel.most_similar_text(122, 10)"
   ]
  },
  {
   "cell_type": "code",
   "execution_count": null,
   "metadata": {},
   "outputs": [],
   "source": []
  }
 ],
 "metadata": {
  "kernelspec": {
   "display_name": "Python 3",
   "language": "python",
   "name": "python3"
  },
  "language_info": {
   "codemirror_mode": {
    "name": "ipython",
    "version": 3
   },
   "file_extension": ".py",
   "mimetype": "text/x-python",
   "name": "python",
   "nbconvert_exporter": "python",
   "pygments_lexer": "ipython3",
   "version": "3.7.6"
  }
 },
 "nbformat": 4,
 "nbformat_minor": 4
}
